{
 "cells": [
  {
   "cell_type": "markdown",
   "id": "ad2a5acf",
   "metadata": {
    "vscode": {
     "languageId": "ini"
    }
   },
   "source": [
    "# Mojoco UI Viewer for LeRobot Joint Controller\n",
    "\n",
    "This file is to show mujoco simulation for lerobot, including mujoco interface control, and sine motion of all joints."
   ]
  },
  {
   "cell_type": "code",
   "execution_count": 2,
   "id": "21654c23",
   "metadata": {},
   "outputs": [],
   "source": [
    "import mujoco\n",
    "import mujoco.viewer\n",
    "import numpy as np\n",
    "import time"
   ]
  },
  {
   "cell_type": "markdown",
   "id": "9cd58a43",
   "metadata": {},
   "source": [
    "## Load mjcf path, and parse xml file to mujoco model and data, launch this model to show mujoco interface."
   ]
  },
  {
   "cell_type": "code",
   "execution_count": 12,
   "id": "446be3a1",
   "metadata": {},
   "outputs": [],
   "source": [
    "mjcf_path = \"../../../models/lerobot/so101/scene/scene.xml\"\n",
    "model = mujoco.MjModel.from_xml_path(mjcf_path)\n",
    "data = mujoco.MjData(model)\n",
    "mujoco.mj_forward(model, data)\n",
    "viewer = mujoco.viewer.launch_passive(model, data)"
   ]
  },
  {
   "cell_type": "markdown",
   "id": "abfe0c9d",
   "metadata": {},
   "source": [
    "#### Run simulation in while loop to update each step every 0.001s, thus you can control each joint by drag the corresponding joint value in control window."
   ]
  },
  {
   "cell_type": "code",
   "execution_count": 9,
   "id": "c1eadc21",
   "metadata": {},
   "outputs": [],
   "source": [
    "while viewer.is_running():\n",
    "    mujoco.mj_step(model, data)\n",
    "    viewer.sync()\n",
    "    time.sleep(0.001)"
   ]
  },
  {
   "cell_type": "markdown",
   "id": "791352f3",
   "metadata": {},
   "source": [
    "#### Give sine wave data to control all joints."
   ]
  },
  {
   "cell_type": "code",
   "execution_count": 11,
   "id": "fc1aac4e",
   "metadata": {},
   "outputs": [],
   "source": [
    "while viewer.is_running():\n",
    "    mujoco.mj_step(model, data)\n",
    "    data.ctrl[:] = np.sin(data.time * np.pi * 2 * 0.5) * 0.2 + np.array([0, -1, 0.5, 0, 0, 0])\n",
    "    viewer.sync()\n",
    "    time.sleep(0.001)"
   ]
  }
 ],
 "metadata": {
  "kernelspec": {
   "display_name": ".venv",
   "language": "python",
   "name": "python3"
  },
  "language_info": {
   "codemirror_mode": {
    "name": "ipython",
    "version": 3
   },
   "file_extension": ".py",
   "mimetype": "text/x-python",
   "name": "python",
   "nbconvert_exporter": "python",
   "pygments_lexer": "ipython3",
   "version": "3.10.12"
  }
 },
 "nbformat": 4,
 "nbformat_minor": 5
}
